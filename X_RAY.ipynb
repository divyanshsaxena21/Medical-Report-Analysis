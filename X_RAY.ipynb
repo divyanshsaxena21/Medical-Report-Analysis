{
  "cells": [
    {
      "cell_type": "markdown",
      "metadata": {
        "id": "view-in-github",
        "colab_type": "text"
      },
      "source": [
        "<a href=\"https://colab.research.google.com/github/divyanshsaxena21/X-Ray_Analysis/blob/main/X_RAY.ipynb\" target=\"_parent\"><img src=\"https://colab.research.google.com/assets/colab-badge.svg\" alt=\"Open In Colab\"/></a>"
      ]
    },
    {
      "cell_type": "code",
      "execution_count": null,
      "metadata": {
        "colab": {
          "base_uri": "https://localhost:8080/"
        },
        "id": "1abW2gFQzLH_",
        "outputId": "e0d9beba-2aa0-4b02-e745-bb5236262481"
      },
      "outputs": [
        {
          "output_type": "stream",
          "name": "stdout",
          "text": [
            "Dataset URL: https://www.kaggle.com/datasets/jtiptj/chest-xray-pneumoniacovid19tuberculosis\n",
            "License(s): other\n",
            "Downloading chest-xray-pneumoniacovid19tuberculosis.zip to /content\n",
            " 99% 1.72G/1.74G [00:09<00:00, 240MB/s]\n",
            "100% 1.74G/1.74G [00:09<00:00, 201MB/s]\n"
          ]
        }
      ],
      "source": [
        "!kaggle datasets download jtiptj/chest-xray-pneumoniacovid19tuberculosis"
      ]
    },
    {
      "cell_type": "code",
      "execution_count": null,
      "metadata": {
        "id": "mnRDixnK0mh1"
      },
      "outputs": [],
      "source": [
        "import zipfile\n",
        "zip_ref = zipfile.ZipFile('/content/chest-xray-pneumoniacovid19tuberculosis.zip', 'r')\n",
        "zip_ref.extractall('/content')\n",
        "zip_ref.close()"
      ]
    },
    {
      "cell_type": "code",
      "execution_count": null,
      "metadata": {
        "id": "6kACskgC0rPe"
      },
      "outputs": [],
      "source": [
        "import tensorflow as tf\n",
        "from tensorflow.keras.preprocessing.image import ImageDataGenerator\n",
        "from tensorflow.keras.models import Sequential\n",
        "from tensorflow.keras.layers import Conv2D, MaxPooling2D, Flatten, Dense, Dropout\n",
        "import matplotlib.pyplot as plt\n"
      ]
    },
    {
      "cell_type": "code",
      "execution_count": null,
      "metadata": {
        "id": "-xjtyqxz20Ui"
      },
      "outputs": [],
      "source": [
        "# Define paths to your data directories\n",
        "train_dir = '/content/train'\n",
        "test_dir = '/content/test'\n",
        "val_dir = '/content/val'"
      ]
    },
    {
      "cell_type": "code",
      "execution_count": null,
      "metadata": {
        "colab": {
          "base_uri": "https://localhost:8080/"
        },
        "id": "iiFoQyiR3D7I",
        "outputId": "b65a1339-ed8d-4a81-c2c4-de6c3f427e33"
      },
      "outputs": [
        {
          "output_type": "stream",
          "name": "stdout",
          "text": [
            "Found 6326 images belonging to 4 classes.\n",
            "Found 38 images belonging to 4 classes.\n",
            "Found 771 images belonging to 4 classes.\n"
          ]
        }
      ],
      "source": [
        "# Data preprocessing and augmentation\n",
        "train_datagen = ImageDataGenerator(\n",
        "    rescale=1./255,\n",
        "    shear_range=0.2,\n",
        "    zoom_range=0.2,\n",
        "    horizontal_flip=True\n",
        ")\n",
        "\n",
        "test_datagen = ImageDataGenerator(rescale=1./255)\n",
        "\n",
        "train_generator = train_datagen.flow_from_directory(\n",
        "    train_dir,\n",
        "    target_size=(150, 150), # Adjust as needed\n",
        "    batch_size=32, # Adjust as needed\n",
        "    class_mode='categorical' # For multi-class classification\n",
        ")\n",
        "\n",
        "validation_generator = test_datagen.flow_from_directory(\n",
        "    val_dir,\n",
        "    target_size=(150, 150),\n",
        "    batch_size=32,\n",
        "    class_mode='categorical'\n",
        ")\n",
        "\n",
        "test_generator = test_datagen.flow_from_directory(\n",
        "    test_dir,\n",
        "    target_size=(150, 150),\n",
        "    batch_size=32,\n",
        "    class_mode='categorical',\n",
        "    shuffle=False # Important for evaluation\n",
        ")\n"
      ]
    },
    {
      "cell_type": "code",
      "execution_count": null,
      "metadata": {
        "id": "SxaErQ0M3GVn"
      },
      "outputs": [],
      "source": [
        "# Build the CNN model\n",
        "model = Sequential()\n",
        "model.add(Conv2D(32, (3, 3), activation='relu', input_shape=(150, 150, 3)))\n",
        "model.add(MaxPooling2D((2, 2)))\n",
        "model.add(Conv2D(64, (3, 3), activation='relu'))\n",
        "model.add(MaxPooling2D((2, 2)))\n",
        "model.add(Conv2D(128, (3, 3), activation='relu'))\n",
        "model.add(MaxPooling2D((2, 2)))\n",
        "model.add(Flatten())\n",
        "model.add(Dense(128, activation='relu'))\n",
        "model.add(Dropout(0.5)) # Add dropout for regularization\n",
        "model.add(Dense(4, activation='softmax')) # 4 classes: COVID-19, Normal, Pneumonia, Tuberculosis\n",
        "\n",
        "\n",
        "# Compile the model\n",
        "model.compile(loss='categorical_crossentropy', optimizer='adam', metrics=['accuracy'])\n"
      ]
    },
    {
      "cell_type": "code",
      "execution_count": null,
      "metadata": {
        "colab": {
          "base_uri": "https://localhost:8080/"
        },
        "id": "LJSmZHxK3Riq",
        "outputId": "dc77d251-5345-4246-e856-4d051a44f086"
      },
      "outputs": [
        {
          "output_type": "stream",
          "name": "stdout",
          "text": [
            "Epoch 1/10\n",
            "197/197 [==============================] - 92s 464ms/step - loss: 0.7021 - accuracy: 0.7302 - val_loss: 0.7364 - val_accuracy: 0.6875\n",
            "Epoch 2/10\n",
            "197/197 [==============================] - 90s 455ms/step - loss: 0.4483 - accuracy: 0.8314 - val_loss: 0.8247 - val_accuracy: 0.6562\n",
            "Epoch 3/10\n",
            "197/197 [==============================] - 88s 448ms/step - loss: 0.3872 - accuracy: 0.8564 - val_loss: 0.7718 - val_accuracy: 0.7500\n",
            "Epoch 4/10\n",
            "197/197 [==============================] - 87s 441ms/step - loss: 0.3439 - accuracy: 0.8726 - val_loss: 0.5513 - val_accuracy: 0.8125\n",
            "Epoch 5/10\n",
            "197/197 [==============================] - 88s 446ms/step - loss: 0.3208 - accuracy: 0.8807 - val_loss: 0.5344 - val_accuracy: 0.8125\n",
            "Epoch 6/10\n",
            "197/197 [==============================] - 87s 443ms/step - loss: 0.3229 - accuracy: 0.8824 - val_loss: 0.6452 - val_accuracy: 0.8125\n",
            "Epoch 7/10\n",
            "197/197 [==============================] - 88s 444ms/step - loss: 0.2896 - accuracy: 0.8947 - val_loss: 0.4324 - val_accuracy: 0.8125\n",
            "Epoch 8/10\n",
            "197/197 [==============================] - 88s 444ms/step - loss: 0.2776 - accuracy: 0.8997 - val_loss: 0.6653 - val_accuracy: 0.7812\n",
            "Epoch 9/10\n",
            "197/197 [==============================] - 88s 445ms/step - loss: 0.2474 - accuracy: 0.9083 - val_loss: 1.0426 - val_accuracy: 0.7188\n",
            "Epoch 10/10\n",
            "197/197 [==============================] - 88s 446ms/step - loss: 0.2359 - accuracy: 0.9174 - val_loss: 0.4924 - val_accuracy: 0.7500\n"
          ]
        }
      ],
      "source": [
        "# Train the model\n",
        "history = model.fit(\n",
        "    train_generator,\n",
        "    steps_per_epoch=train_generator.samples // train_generator.batch_size,\n",
        "    epochs=10,\n",
        "    validation_data=validation_generator,\n",
        "    validation_steps=validation_generator.samples // validation_generator.batch_size\n",
        ")"
      ]
    },
    {
      "cell_type": "code",
      "execution_count": null,
      "metadata": {
        "colab": {
          "base_uri": "https://localhost:8080/"
        },
        "id": "BRjeWAXc3UEq",
        "outputId": "632df04c-9d8f-4925-dd9c-f19fad0c9382"
      },
      "outputs": [
        {
          "output_type": "stream",
          "name": "stdout",
          "text": [
            "24/24 [==============================] - 7s 259ms/step - loss: 0.4147 - accuracy: 0.8620\n",
            "Test accuracy: 0.8619791865348816\n"
          ]
        }
      ],
      "source": [
        "# Evaluate the model\n",
        "test_loss, test_acc = model.evaluate(test_generator, steps=test_generator.samples // test_generator.batch_size)\n",
        "print('Test accuracy:', test_acc)"
      ]
    },
    {
      "cell_type": "code",
      "execution_count": null,
      "metadata": {
        "colab": {
          "base_uri": "https://localhost:8080/"
        },
        "id": "NF__qTdw6yb4",
        "outputId": "f56eb9b6-a99d-4533-9469-ca6188fdfb75"
      },
      "outputs": [
        {
          "output_type": "stream",
          "name": "stdout",
          "text": [
            "path_to_your_image.jpg/content/val/PNEUMONIA/person1946_bacteria_4874.jpeg\n",
            "1/1 [==============================] - 0s 97ms/step\n",
            "The predicted class is: Pneumonia\n"
          ]
        }
      ],
      "source": [
        "from tensorflow.keras.preprocessing import image\n",
        "import numpy as np\n",
        "\n",
        "# Function to predict the class of a given image\n",
        "def predict_image(img_path, model):\n",
        "    # Step 1: Load the image and resize it to (150, 150)\n",
        "    img = image.load_img(img_path, target_size=(150, 150))  # Load the image\n",
        "    img_array = image.img_to_array(img)  # Convert image to numpy array\n",
        "    img_array = img_array / 255.0  # Rescale the pixel values to [0, 1]\n",
        "\n",
        "    # Step 2: Expand the dimensions to create a batch of 1 image (model expects batch input)\n",
        "    img_array = np.expand_dims(img_array, axis=0)\n",
        "\n",
        "    # Step 3: Make the prediction\n",
        "    predictions = model.predict(img_array)\n",
        "\n",
        "    # Step 4: Get the class with the highest probability\n",
        "    class_idx = np.argmax(predictions, axis=1)\n",
        "\n",
        "    # Class names (based on the order in your directories)\n",
        "    class_labels = ['COVID-19', 'Normal', 'Pneumonia', 'Tuberculosis']\n",
        "\n",
        "    # Step 5: Return the predicted class label\n",
        "    return class_labels[class_idx[0]]\n",
        "\n",
        "# Example usage:\n",
        "img_path = input('path_to_your_image.jpg')  # Replace with the path to the image you want to predict\n",
        "predicted_class = predict_image(img_path, model)\n",
        "print(f\"The predicted class is: {predicted_class}\")\n"
      ]
    },
    {
      "cell_type": "code",
      "source": [
        "from tensorflow.keras.models import load_model\n",
        "from tensorflow.keras.preprocessing import image\n",
        "import numpy as np\n",
        "model = load_model('/content/model.h5')"
      ],
      "metadata": {
        "id": "xHoVnfrmKfim"
      },
      "execution_count": null,
      "outputs": []
    },
    {
      "cell_type": "code",
      "source": [
        "def predict_image(img_path, model):\n",
        "    img = image.load_img(img_path, target_size=(150, 150))\n",
        "    img_array = image.img_to_array(img)\n",
        "    img_array = img_array / 255.0\n",
        "    img_array = np.expand_dims(img_array, axis=0)\n",
        "    predictions = model.predict(img_array)\n",
        "    class_idx = np.argmax(predictions, axis=1)\n",
        "    class_labels = ['COVID-19', 'Normal', 'Pneumonia', 'Tuberculosis']\n",
        "    return class_labels[class_idx[0]]"
      ],
      "metadata": {
        "id": "r82bL4Ou-3_q"
      },
      "execution_count": null,
      "outputs": []
    },
    {
      "cell_type": "code",
      "source": [
        "img_path = input(\"Enter path of image\") # Replace with path to your test image\n",
        "predicted_class = predict_image(img_path, model)\n",
        "print(f\"The predicted class is: {predicted_class}\")"
      ],
      "metadata": {
        "colab": {
          "base_uri": "https://localhost:8080/"
        },
        "id": "5w3HTKTg_JC2",
        "outputId": "bea06971-2e33-418d-b8f2-9467fc991305"
      },
      "execution_count": null,
      "outputs": [
        {
          "output_type": "stream",
          "name": "stdout",
          "text": [
            "Enter path of image/content/val/COVID19/COVID19(567).jpg\n",
            "1/1 [==============================] - 0s 80ms/step\n",
            "The predicted class is: COVID-19\n"
          ]
        }
      ]
    },
    {
      "cell_type": "code",
      "source": [],
      "metadata": {
        "id": "J0ffsYss_OFw"
      },
      "execution_count": null,
      "outputs": []
    }
  ],
  "metadata": {
    "colab": {
      "provenance": [],
      "gpuType": "V28",
      "authorship_tag": "ABX9TyNLbptxQAPW/f6VFKzsYwLz",
      "include_colab_link": true
    },
    "kernelspec": {
      "display_name": "Python 3",
      "name": "python3"
    },
    "language_info": {
      "name": "python"
    },
    "accelerator": "TPU"
  },
  "nbformat": 4,
  "nbformat_minor": 0
}